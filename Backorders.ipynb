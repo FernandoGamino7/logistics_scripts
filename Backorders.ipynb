{
 "cells": [
  {
   "cell_type": "code",
   "execution_count": 1,
   "id": "c3cfc1e9",
   "metadata": {},
   "outputs": [],
   "source": [
    "fecha_entrega = \"0217\"  # <<<<<<< MODIFICAR DIARIOOOO"
   ]
  },
  {
   "cell_type": "code",
   "execution_count": 2,
   "id": "09b1cae1",
   "metadata": {},
   "outputs": [],
   "source": [
    "import pandas as pd\n",
    "import os.path\n",
    "import pyodbc\n",
    "\n",
    "# pyodbc\n",
    "from sqlalchemy import create_engine\n",
    "engine = create_engine(\"access+pyodbc://@backorders\")"
   ]
  },
  {
   "cell_type": "code",
   "execution_count": 3,
   "id": "31ccc29b",
   "metadata": {},
   "outputs": [],
   "source": [
    "# \"C:\\Users\\FernandoManuelGamino\\Documents\\BACKORDERS\\0131\\0131_backorders.csv\"\n",
    "\n",
    "path = \"../BACKORDERS/2_febrero\"\n",
    "a_file = \"backorders_\"+fecha_entrega+\".csv\"\n",
    "joined_path = os.path.join(path, a_file)\n",
    "df = pd.read_csv(joined_path, header=4)"
   ]
  },
  {
   "cell_type": "code",
   "execution_count": 4,
   "id": "73ad0964",
   "metadata": {},
   "outputs": [],
   "source": [
    "# it's a list\n",
    "formato = ['Fecha', 'Número de documento', 'Retailer Code', 'Artículo', 'SKU',\n",
    "       'Pedido', 'Completado', 'Backorder', 'Reparto', 'Preventa',\n",
    "       'precio unitario', 'precio total', 'Cliente']"
   ]
  },
  {
   "cell_type": "code",
   "execution_count": 5,
   "id": "ce209952",
   "metadata": {},
   "outputs": [
    {
     "data": {
      "text/plain": [
       "Index(['Fecha ', 'Número de documento ', 'Cliente/Trabajo: RB - EXTERNAL ID  ',\n",
       "       'Artículo ', 'Artículo: ID interno ', 'Pedido ', 'Completado ',\n",
       "       'Pedido en espera ', 'RB - RUTA  ', 'RB - Ruta  ', 'Precio unitario ',\n",
       "       'Importe (bruto) ', 'Saldo ', 'Cliente/Trabajo '],\n",
       "      dtype='object')"
      ]
     },
     "execution_count": 5,
     "metadata": {},
     "output_type": "execute_result"
    }
   ],
   "source": [
    "df.columns"
   ]
  },
  {
   "cell_type": "code",
   "execution_count": 7,
   "id": "c5b2fe31",
   "metadata": {},
   "outputs": [],
   "source": [
    "df.drop('Saldo ',axis=1,inplace=True)"
   ]
  },
  {
   "cell_type": "code",
   "execution_count": 8,
   "id": "4aa0d49c",
   "metadata": {},
   "outputs": [],
   "source": [
    "df.columns = formato"
   ]
  },
  {
   "cell_type": "code",
   "execution_count": 9,
   "id": "b62a3e19",
   "metadata": {},
   "outputs": [
    {
     "data": {
      "text/html": [
       "<div>\n",
       "<style scoped>\n",
       "    .dataframe tbody tr th:only-of-type {\n",
       "        vertical-align: middle;\n",
       "    }\n",
       "\n",
       "    .dataframe tbody tr th {\n",
       "        vertical-align: top;\n",
       "    }\n",
       "\n",
       "    .dataframe thead th {\n",
       "        text-align: right;\n",
       "    }\n",
       "</style>\n",
       "<table border=\"1\" class=\"dataframe\">\n",
       "  <thead>\n",
       "    <tr style=\"text-align: right;\">\n",
       "      <th></th>\n",
       "      <th>Fecha</th>\n",
       "      <th>Número de documento</th>\n",
       "      <th>Retailer Code</th>\n",
       "      <th>Artículo</th>\n",
       "      <th>SKU</th>\n",
       "      <th>Pedido</th>\n",
       "      <th>Completado</th>\n",
       "      <th>Backorder</th>\n",
       "      <th>Reparto</th>\n",
       "      <th>Preventa</th>\n",
       "      <th>precio unitario</th>\n",
       "      <th>precio total</th>\n",
       "      <th>Cliente</th>\n",
       "    </tr>\n",
       "  </thead>\n",
       "  <tbody>\n",
       "    <tr>\n",
       "      <th>0</th>\n",
       "      <td>17/02/2022</td>\n",
       "      <td>SO928358</td>\n",
       "      <td>NL02100330</td>\n",
       "      <td>ELECTROLIT 625ml (JAMAICA).-</td>\n",
       "      <td>736</td>\n",
       "      <td>2</td>\n",
       "      <td>0</td>\n",
       "      <td>2</td>\n",
       "      <td>Monterrey-05</td>\n",
       "      <td>PVMty014</td>\n",
       "      <td>$16.50</td>\n",
       "      <td>$33.00</td>\n",
       "      <td>243688 CARNICERIA Y ABARROTES TREJO</td>\n",
       "    </tr>\n",
       "    <tr>\n",
       "      <th>1</th>\n",
       "      <td>17/02/2022</td>\n",
       "      <td>SO928379</td>\n",
       "      <td>NL04500093</td>\n",
       "      <td>ELECTROLIT 625ml (JAMAICA).-</td>\n",
       "      <td>736</td>\n",
       "      <td>6</td>\n",
       "      <td>0</td>\n",
       "      <td>6</td>\n",
       "      <td>Monterrey-02</td>\n",
       "      <td>PVMty005</td>\n",
       "      <td>$16.50</td>\n",
       "      <td>$99.00</td>\n",
       "      <td>240376 TIENDA DE ABARROTES</td>\n",
       "    </tr>\n",
       "    <tr>\n",
       "      <th>2</th>\n",
       "      <td>17/02/2022</td>\n",
       "      <td>SO928380</td>\n",
       "      <td>NL03903837</td>\n",
       "      <td>SERV VOGUE 100.-</td>\n",
       "      <td>718</td>\n",
       "      <td>24</td>\n",
       "      <td>0</td>\n",
       "      <td>24</td>\n",
       "      <td>Monterrey-07</td>\n",
       "      <td>PVMty019</td>\n",
       "      <td>$7.26</td>\n",
       "      <td>$174.24</td>\n",
       "      <td>247216 ABARROTES LA TAPATIA</td>\n",
       "    </tr>\n",
       "    <tr>\n",
       "      <th>3</th>\n",
       "      <td>17/02/2022</td>\n",
       "      <td>SO928381</td>\n",
       "      <td>NL03902790</td>\n",
       "      <td>SERV VOGUE 100.-</td>\n",
       "      <td>718</td>\n",
       "      <td>12</td>\n",
       "      <td>0</td>\n",
       "      <td>12</td>\n",
       "      <td>Monterrey-07</td>\n",
       "      <td>PVMty019</td>\n",
       "      <td>$7.26</td>\n",
       "      <td>$87.12</td>\n",
       "      <td>247235 ABARROTES CASTILLO</td>\n",
       "    </tr>\n",
       "    <tr>\n",
       "      <th>4</th>\n",
       "      <td>17/02/2022</td>\n",
       "      <td>SO928383</td>\n",
       "      <td>NL02100152</td>\n",
       "      <td>ELECTROLIT 625ml (MORA AZUL).-</td>\n",
       "      <td>739</td>\n",
       "      <td>2</td>\n",
       "      <td>0</td>\n",
       "      <td>2</td>\n",
       "      <td>Monterrey-05</td>\n",
       "      <td>PVMty014</td>\n",
       "      <td>$16.50</td>\n",
       "      <td>$33.00</td>\n",
       "      <td>243696 TIENDA DE ABARROTES LA ESQUINITA</td>\n",
       "    </tr>\n",
       "  </tbody>\n",
       "</table>\n",
       "</div>"
      ],
      "text/plain": [
       "        Fecha Número de documento Retailer Code  \\\n",
       "0  17/02/2022            SO928358    NL02100330   \n",
       "1  17/02/2022            SO928379    NL04500093   \n",
       "2  17/02/2022            SO928380    NL03903837   \n",
       "3  17/02/2022            SO928381    NL03902790   \n",
       "4  17/02/2022            SO928383    NL02100152   \n",
       "\n",
       "                         Artículo  SKU  Pedido  Completado  Backorder  \\\n",
       "0    ELECTROLIT 625ml (JAMAICA).-  736       2           0          2   \n",
       "1    ELECTROLIT 625ml (JAMAICA).-  736       6           0          6   \n",
       "2                SERV VOGUE 100.-  718      24           0         24   \n",
       "3                SERV VOGUE 100.-  718      12           0         12   \n",
       "4  ELECTROLIT 625ml (MORA AZUL).-  739       2           0          2   \n",
       "\n",
       "        Reparto  Preventa precio unitario precio total  \\\n",
       "0  Monterrey-05  PVMty014          $16.50       $33.00   \n",
       "1  Monterrey-02  PVMty005          $16.50       $99.00   \n",
       "2  Monterrey-07  PVMty019           $7.26      $174.24   \n",
       "3  Monterrey-07  PVMty019           $7.26       $87.12   \n",
       "4  Monterrey-05  PVMty014          $16.50       $33.00   \n",
       "\n",
       "                                   Cliente  \n",
       "0      243688 CARNICERIA Y ABARROTES TREJO  \n",
       "1               240376 TIENDA DE ABARROTES  \n",
       "2              247216 ABARROTES LA TAPATIA  \n",
       "3                247235 ABARROTES CASTILLO  \n",
       "4  243696 TIENDA DE ABARROTES LA ESQUINITA  "
      ]
     },
     "execution_count": 9,
     "metadata": {},
     "output_type": "execute_result"
    }
   ],
   "source": [
    "df.head()"
   ]
  },
  {
   "cell_type": "code",
   "execution_count": 10,
   "id": "1b080baf",
   "metadata": {},
   "outputs": [
    {
     "data": {
      "text/plain": [
       "-1"
      ]
     },
     "execution_count": 10,
     "metadata": {},
     "output_type": "execute_result"
    }
   ],
   "source": [
    "df.to_sql('Backorder',engine , index=False, if_exists='append')"
   ]
  }
 ],
 "metadata": {
  "kernelspec": {
   "display_name": "Python 3 (ipykernel)",
   "language": "python",
   "name": "python3"
  },
  "language_info": {
   "codemirror_mode": {
    "name": "ipython",
    "version": 3
   },
   "file_extension": ".py",
   "mimetype": "text/x-python",
   "name": "python",
   "nbconvert_exporter": "python",
   "pygments_lexer": "ipython3",
   "version": "3.10.2"
  }
 },
 "nbformat": 4,
 "nbformat_minor": 5
}
